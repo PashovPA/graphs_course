{
 "cells": [
  {
   "cell_type": "code",
   "execution_count": 1,
   "id": "87881e11",
   "metadata": {},
   "outputs": [],
   "source": [
    "import numpy as np\n",
    "import pandas as pd\n",
    "import random\n",
    "import networkx as nx\n",
    "import matplotlib.pyplot as plt\n",
    "import graphblas as gb\n",
    "from graphblas import Matrix, Vector, Scalar\n",
    "from graphblas import dtypes\n",
    "from graphblas import unary, binary, monoid, semiring\n",
    "from graphblas.io import mmread\n",
    "from colorama import Style"
   ]
  },
  {
   "cell_type": "markdown",
   "id": "372e293a",
   "metadata": {},
   "source": [
    "№1. Используя python-graphblas реализовать функцию обхода ориентированного графа (MSBFS-Levels) в ширину из нескольких заданных стартовых вершин.\n",
    "Функция принимает представление графа, удобное для неё (загрузка, конвертация реализованы отдельно) и массив номеров стартовых вершин.\n",
    "Функция возвращает массив пар: стартовая вершина, и массив (levels), где для каждой вершины указано, на каком уровне она достижима из этой стартовой. Стартовая вершина достижима на нулевом уровне, если вершина не достижима, то значение соответствующей ячейки сделайте равной -1."
   ]
  },
  {
   "cell_type": "code",
   "execution_count": 2,
   "id": "1ff96a07",
   "metadata": {},
   "outputs": [],
   "source": [
    "def msbfs_levels(A, start_vertices):\n",
    "    if A.isequal(A.T) and A.nvals > 0: \n",
    "        raise Exception(\"Error!!! Граф неориентированный!\")\n",
    "        \n",
    "    n = A.nrows\n",
    "    m = start_vertices.size\n",
    "    result = Matrix(dtypes.INT32, m, n)\n",
    "    f = Matrix(bool, m, n)\n",
    "    succ = Vector(bool, m)\n",
    "    \n",
    "    for i in range(m):\n",
    "        f[i, start_vertices[i]] << True \n",
    "    \n",
    "    level = 0\n",
    "    while True:\n",
    "        result(mask=f.V) << level\n",
    "        f(~result.S, replace=True) << f.mxm(A, semiring.lor_land)\n",
    "        for i in range(m):\n",
    "            succ[i] << f[i,:].reduce(monoid.lor, allow_empty=False) \n",
    "            \n",
    "        finish_flg = True\n",
    "        for i in range(m):\n",
    "            if succ[i]:\n",
    "                finish_flg = False\n",
    "                break\n",
    "                \n",
    "        if finish_flg:\n",
    "            break\n",
    "            \n",
    "        level += 1    \n",
    "    \n",
    "    res = result.to_dense(fill_value=-1)\n",
    "    output = {}\n",
    "    for i, vert in enumerate(start_vertices):\n",
    "        output[vert] = res[i, :]\n",
    "        \n",
    "    return output"
   ]
  },
  {
   "cell_type": "markdown",
   "id": "d6107620",
   "metadata": {},
   "source": [
    "№2. Используя python-graphblas реализовать функцию обхода ориентированного графа (MSBFS-Parents) в ширину из нескольких заданных стартовых вершин.\n",
    "Функция принимает представление графа, удобное для неё (загрузка, конвертация реализованы отдельно) и массив номеров стартовых вершин.\n",
    "Функция возвращает массив пар: стартовая вершина, и массив (parents), где для каждой вершины графа указано, из какой вершины мы пришли в эту по кратчайшему пути из стартовой вершины. При этом для самой стартовой вершины такое значение взять равное -1, а для недостижимых вершин взять равное -2. При наличии нескольких возможных значений в массивах parents брать наименьшее."
   ]
  },
  {
   "cell_type": "code",
   "execution_count": 3,
   "id": "e09d02e8",
   "metadata": {},
   "outputs": [],
   "source": [
    "def msbfs_parents(A, start_vertices):\n",
    "    if A.isequal(A.T) and A.nvals > 0: \n",
    "        raise Exception(\"Error!!! Граф неориентированный!\")\n",
    "\n",
    "    N = A.nrows\n",
    "    M = start_vertices.size\n",
    "\n",
    "    index_ramp = Matrix(dtypes.UINT64, M, N)\n",
    "    for j in range(N):\n",
    "        index_ramp[:, j] << j\n",
    "\n",
    "    parents = Matrix(dtypes.INT64, M, N)\n",
    "    wavefront = Matrix(dtypes.UINT64, M, N)\n",
    "    \n",
    "    for i in range(M):\n",
    "        parents[i, start_vertices[i]] << start_vertices[i] \n",
    "        wavefront[i, start_vertices[i]] << 1\n",
    "        \n",
    "    while wavefront.nvals > 0:\n",
    "        wavefront << index_ramp.ewise_mult(wavefront, binary.first)\n",
    "        wavefront(~parents.S, replace=True) << wavefront.mxm(A, semiring.min_first)\n",
    "        parents(binary.plus) << wavefront \n",
    "    \n",
    "    for ind in range(len(start_vertices)):\n",
    "        parents[ind, start_vertices[ind]] << -1\n",
    "    \n",
    "    res = parents.to_dense(fill_value=-2)\n",
    "    output = {}\n",
    "    for i, vert in enumerate(start_vertices):\n",
    "        output[vert] = res[i, :]\n",
    "    \n",
    "    return output"
   ]
  },
  {
   "cell_type": "markdown",
   "id": "2a805d40",
   "metadata": {},
   "source": [
    "№3. Добавить тесты для проверки корректности полученных реализаций.\n",
    "\n",
    "Всего будет 3 графа для проверки:\n",
    "* неориентированный граф (проверка того, что отработает ошибка);\n",
    "* граф со связанными вершинами (но не обязательно достижимы из каждой стартовой точки);\n",
    "* граф, у которого вершины сгруппированы в \"островки\"."
   ]
  },
  {
   "cell_type": "code",
   "execution_count": 4,
   "id": "eaffcd4d",
   "metadata": {},
   "outputs": [
    {
     "data": {
      "image/png": "[encoded data removed]",
      "text/plain": [
       "<Figure size 640x480 with 1 Axes>"
      ]
     },
     "metadata": {},
     "output_type": "display_data"
    }
   ],
   "source": [
    "matrix1 = np.array([\n",
    "    [0, 1, 0, 0],\n",
    "    [1, 0, 1, 1],\n",
    "    [0, 1, 0, 1],\n",
    "    [0, 1, 1, 0]\n",
    "])\n",
    "M1 = gb.Matrix.from_dense(matrix1, missing_value=0)\n",
    "\n",
    "gb.viz.draw(M1)"
   ]
  },
  {
   "cell_type": "code",
   "execution_count": 5,
   "id": "44e66b78",
   "metadata": {},
   "outputs": [
    {
     "name": "stdout",
     "output_type": "stream",
     "text": [
      "msbfs_levels: Тест пройден\n"
     ]
    }
   ],
   "source": [
    "try:\n",
    "    msbfs_levels(M1, np.array([0, 1, 2, 3]))\n",
    "except Exception as e:\n",
    "    if str(e) == \"Error!!! Граф неориентированный!\":\n",
    "        print(\"msbfs_levels: Тест пройден\")\n",
    "    else:\n",
    "        print(f\"msbfs_levels: Неверное сообщение об ошибке: {e}\")\n",
    "else:\n",
    "    print(\"msbfs_levels: Исключение не было вызвано\")"
   ]
  },
  {
   "cell_type": "code",
   "execution_count": 6,
   "id": "d306e2d7",
   "metadata": {},
   "outputs": [
    {
     "name": "stdout",
     "output_type": "stream",
     "text": [
      "msbfs_parents: Тест пройден\n"
     ]
    }
   ],
   "source": [
    "try:\n",
    "    msbfs_parents(M1, np.array([0, 1, 2, 3]))\n",
    "except Exception as e:\n",
    "    if str(e) == \"Error!!! Граф неориентированный!\":\n",
    "        print(\"msbfs_parents: Тест пройден\")\n",
    "    else:\n",
    "        print(f\"msbfs_parents: Неверное сообщение об ошибке: {e}\")\n",
    "else:\n",
    "    print(\"msbfs_parents: Исключение не было вызвано\")"
   ]
  },
  {
   "cell_type": "code",
   "execution_count": 7,
   "id": "0cb18e60",
   "metadata": {},
   "outputs": [
    {
     "data": {
      "image/png": "[encoded data removed]",
      "text/plain": [
       "<Figure size 640x480 with 1 Axes>"
      ]
     },
     "metadata": {},
     "output_type": "display_data"
    }
   ],
   "source": [
    "matrix2 = np.array([\n",
    "    [0, 1, 0, 1],\n",
    "    [0, 0, 1, 0],\n",
    "    [0, 1, 0, 1],\n",
    "    [0, 0, 0, 0]\n",
    "])\n",
    "M2 = gb.Matrix.from_dense(matrix2, missing_value=0)\n",
    "\n",
    "gb.viz.draw(M2)\n",
    "\n",
    "assert (msbfs_levels(M2, np.array([0, 1, 3]))[0]==np.array([0, 1, 2, 1])).all()\n",
    "assert (msbfs_levels(M2, np.array([0, 1, 3]))[1]==np.array([-1, 0, 1, 2])).all()\n",
    "assert (msbfs_levels(M2, np.array([0, 1, 3]))[3]==np.array([-1, -1, -1, 0])).all()\n",
    "\n",
    "assert (msbfs_parents(M2, np.array([0, 1, 3]))[0]==np.array([-1, 0, 1, 0])).all()\n",
    "assert (msbfs_parents(M2, np.array([0, 1, 3]))[1]==np.array([-2, -1, 1, 2])).all()\n",
    "assert (msbfs_parents(M2, np.array([0, 1, 3]))[3]==np.array([-2, -2, -2, -1])).all()"
   ]
  },
  {
   "cell_type": "code",
   "execution_count": 8,
   "id": "acff62e2",
   "metadata": {},
   "outputs": [
    {
     "data": {
      "image/png": "[encoded data removed]",
      "text/plain": [
       "<Figure size 640x480 with 1 Axes>"
      ]
     },
     "metadata": {},
     "output_type": "display_data"
    }
   ],
   "source": [
    "matrix3 = np.array([\n",
    "    [0, 1, 0, 0],\n",
    "    [0, 0, 0, 0],\n",
    "    [0, 0, 0, 1],\n",
    "    [0, 0, 1, 0]\n",
    "])\n",
    "M3 = gb.Matrix.from_dense(matrix3, missing_value=0)\n",
    "\n",
    "gb.viz.draw(M3)\n",
    "\n",
    "assert (msbfs_levels(M3, np.array([3, 2, 1]))[3]==np.array([-1, -1, 1, 0])).all()\n",
    "assert (msbfs_levels(M3, np.array([3, 2, 1]))[2]==np.array([-1, -1, 0, 1])).all()\n",
    "assert (msbfs_levels(M3, np.array([3, 2, 1]))[1]==np.array([-1, 0, -1, -1])).all()\n",
    "\n",
    "assert (msbfs_parents(M3, np.array([3, 2, 1]))[3]==np.array([-2, -2, 3, -1])).all()\n",
    "assert (msbfs_parents(M3, np.array([3, 2, 1]))[2]==np.array([-2, -2, -1, 2])).all()\n",
    "assert (msbfs_parents(M3, np.array([3, 2, 1]))[1]==np.array([-2, -1, -2, -2])).all()"
   ]
  },
  {
   "cell_type": "markdown",
   "id": "3a5ae43f",
   "metadata": {},
   "source": [
    "№4.(+2 балла) Провести экспериментальное исследование полученных реализаций на некоторых больших графах в формате Matrix Market с сайта SuiteSparse Matrix Collection и на случайных сгенерированных. При этом описать зависимость времени работы всех полученных реализаций от размеров графа, его степени разреженности, количестве стартовых вершин."
   ]
  },
  {
   "cell_type": "code",
   "execution_count": 9,
   "id": "19959823",
   "metadata": {},
   "outputs": [],
   "source": [
    "'''Функции для тестирования'''\n",
    "\n",
    "def gen_vertices(num_vertices, vertex_frac):\n",
    "    '''\n",
    "    генерация стартовых вершин в зависимости от числа вершин (num_vertices) и \n",
    "    доли (в %) стартовых вершин от общего числа (vertex_frac)\n",
    "    '''\n",
    "    start_vertices = random.sample(range(num_vertices), int(vertex_frac / 100 * num_vertices))\n",
    "    return np.array(start_vertices)\n",
    "\n",
    "def test(A, start_vertices):\n",
    "    print('msbfs_levels:')\n",
    "    %timeit msbfs_levels(A, start_vertices)\n",
    "    print()\n",
    "    print('msbfs_parents:')\n",
    "    %timeit msbfs_parents(A, start_vertices)\n",
    "    print('\\n')"
   ]
  },
  {
   "cell_type": "markdown",
   "id": "46230be0",
   "metadata": {},
   "source": [
    "**Тестирование на графах с SuiteSparse Matrix Collection**"
   ]
  },
  {
   "cell_type": "code",
   "execution_count": 10,
   "id": "cec0a917",
   "metadata": {},
   "outputs": [],
   "source": [
    "graph_names = [\n",
    "    'Roget.mtx',\n",
    "    'CSphd.mtx',\n",
    "    'GD06_Java.mtx'\n",
    "]\n",
    "\n",
    "vertex_fracs=[5, 35, 70, 95] # доли стартовых вершин от общего числа"
   ]
  },
  {
   "cell_type": "code",
   "execution_count": 11,
   "id": "6e854402",
   "metadata": {},
   "outputs": [
    {
     "name": "stdout",
     "output_type": "stream",
     "text": [
      "\u001b[1mДля Roget.mtx.mtx (Количество вершин: 1022, количество ребер: 5075), степень разреженности: 0.0049\n",
      "\u001b[0mКоличество стартовых вершин: 51\n",
      "msbfs_levels:\n",
      "95.3 ms ± 3.16 ms per loop (mean ± std. dev. of 7 runs, 10 loops each)\n",
      "\n",
      "msbfs_parents:\n",
      "82.6 ms ± 2.28 ms per loop (mean ± std. dev. of 7 runs, 10 loops each)\n",
      "\n",
      "\n",
      "Количество стартовых вершин: 357\n",
      "msbfs_levels:\n",
      "672 ms ± 64.6 ms per loop (mean ± std. dev. of 7 runs, 1 loop each)\n",
      "\n",
      "msbfs_parents:\n",
      "170 ms ± 823 µs per loop (mean ± std. dev. of 7 runs, 10 loops each)\n",
      "\n",
      "\n",
      "Количество стартовых вершин: 715\n",
      "msbfs_levels:\n",
      "1.14 s ± 5.61 ms per loop (mean ± std. dev. of 7 runs, 1 loop each)\n",
      "\n",
      "msbfs_parents:\n",
      "262 ms ± 8.41 ms per loop (mean ± std. dev. of 7 runs, 1 loop each)\n",
      "\n",
      "\n",
      "Количество стартовых вершин: 970\n",
      "msbfs_levels:\n",
      "1.62 s ± 79.4 ms per loop (mean ± std. dev. of 7 runs, 1 loop each)\n",
      "\n",
      "msbfs_parents:\n",
      "338 ms ± 7.19 ms per loop (mean ± std. dev. of 7 runs, 1 loop each)\n",
      "\n",
      "\n",
      "\n",
      "\u001b[1mДля CSphd.mtx.mtx (Количество вершин: 1882, количество ребер: 1740), степень разреженности: 0.0005\n",
      "\u001b[0mКоличество стартовых вершин: 94\n",
      "msbfs_levels:\n",
      "76.1 ms ± 4.05 ms per loop (mean ± std. dev. of 7 runs, 10 loops each)\n",
      "\n",
      "msbfs_parents:\n",
      "159 ms ± 13.3 ms per loop (mean ± std. dev. of 7 runs, 10 loops each)\n",
      "\n",
      "\n",
      "Количество стартовых вершин: 658\n",
      "msbfs_levels:\n",
      "850 ms ± 42.1 ms per loop (mean ± std. dev. of 7 runs, 1 loop each)\n",
      "\n",
      "msbfs_parents:\n",
      "295 ms ± 7.42 ms per loop (mean ± std. dev. of 7 runs, 1 loop each)\n",
      "\n",
      "\n",
      "Количество стартовых вершин: 1317\n",
      "msbfs_levels:\n",
      "1.67 s ± 26.5 ms per loop (mean ± std. dev. of 7 runs, 1 loop each)\n",
      "\n",
      "msbfs_parents:\n",
      "458 ms ± 9.38 ms per loop (mean ± std. dev. of 7 runs, 1 loop each)\n",
      "\n",
      "\n",
      "Количество стартовых вершин: 1787\n",
      "msbfs_levels:\n",
      "2.27 s ± 63.4 ms per loop (mean ± std. dev. of 7 runs, 1 loop each)\n",
      "\n",
      "msbfs_parents:\n",
      "583 ms ± 20 ms per loop (mean ± std. dev. of 7 runs, 1 loop each)\n",
      "\n",
      "\n",
      "\n",
      "\u001b[1mДля GD06_Java.mtx.mtx (Количество вершин: 1538, количество ребер: 8032), степень разреженности: 0.0034\n",
      "\u001b[0mКоличество стартовых вершин: 76\n",
      "msbfs_levels:\n",
      "104 ms ± 4.94 ms per loop (mean ± std. dev. of 7 runs, 10 loops each)\n",
      "\n",
      "msbfs_parents:\n",
      "123 ms ± 4.2 ms per loop (mean ± std. dev. of 7 runs, 10 loops each)\n",
      "\n",
      "\n",
      "Количество стартовых вершин: 538\n",
      "msbfs_levels:\n",
      "766 ms ± 23.1 ms per loop (mean ± std. dev. of 7 runs, 1 loop each)\n",
      "\n",
      "msbfs_parents:\n",
      "291 ms ± 22.1 ms per loop (mean ± std. dev. of 7 runs, 1 loop each)\n",
      "\n",
      "\n",
      "Количество стартовых вершин: 1076\n",
      "msbfs_levels:\n",
      "1.6 s ± 71.8 ms per loop (mean ± std. dev. of 7 runs, 1 loop each)\n",
      "\n",
      "msbfs_parents:\n",
      "455 ms ± 14.4 ms per loop (mean ± std. dev. of 7 runs, 1 loop each)\n",
      "\n",
      "\n",
      "Количество стартовых вершин: 1461\n",
      "msbfs_levels:\n",
      "2.12 s ± 139 ms per loop (mean ± std. dev. of 7 runs, 1 loop each)\n",
      "\n",
      "msbfs_parents:\n",
      "623 ms ± 25.8 ms per loop (mean ± std. dev. of 7 runs, 1 loop each)\n",
      "\n",
      "\n",
      "\n"
     ]
    }
   ],
   "source": [
    "# 1. Зависимость времени работы от размера графа (и степени разреженности)\n",
    "for graph_name in graph_names:\n",
    "    graph = mmread(graph_name)\n",
    "    num_vertices = graph.shape[0]\n",
    "    num_edges = len(graph.to_coo()[0])\n",
    "    rerefaction_deg = num_edges / (num_vertices * (num_vertices - 1))\n",
    "    print(Style.BRIGHT + f'Для {graph_name}.mtx (Количество вершин: {num_vertices}, количество ребер: {num_edges}), степень разреженности: {rerefaction_deg:.4f}')\n",
    "    print(Style.RESET_ALL, end='')\n",
    "    \n",
    "    # 2. Зависимость времени работы от числа стартовых вершин\n",
    "    for vertex_frac in vertex_fracs:\n",
    "        print(f'Количество стартовых вершин: {int(vertex_frac / 100 * graph.nrows)}')\n",
    "        test(graph, gen_vertices(graph.nrows, vertex_frac))\n",
    "    print()"
   ]
  },
  {
   "cell_type": "markdown",
   "id": "f452ad6b",
   "metadata": {},
   "source": [
    "**Тестирование на случайно сгенерированных графах**"
   ]
  },
  {
   "cell_type": "code",
   "execution_count": 12,
   "id": "e5592c4a",
   "metadata": {},
   "outputs": [],
   "source": [
    "def generate_graph(num_vertices, num_edges):\n",
    "    positions=[]\n",
    "    for ind in range(num_vertices**2):\n",
    "        if ind // num_vertices != ind % num_vertices:\n",
    "            positions.append(ind)\n",
    "\n",
    "    gen_indices = random.sample(positions, num_edges)\n",
    "    \n",
    "    row_indices, col_indices = np.unravel_index(gen_indices, (num_vertices, num_vertices))\n",
    "    \n",
    "    return gb.Matrix.from_coo(row_indices, col_indices, [1]*len(row_indices), nrows=num_vertices, ncols=num_vertices)"
   ]
  },
  {
   "cell_type": "code",
   "execution_count": 13,
   "id": "77ffa13b",
   "metadata": {},
   "outputs": [
    {
     "name": "stdout",
     "output_type": "stream",
     "text": [
      "\u001b[1mКоличество вершин: 100, степень разреженности: 0.50, доля стартовых вершин: 50%\n",
      "\u001b[0mmsbfs_levels:\n",
      "19.8 ms ± 331 µs per loop (mean ± std. dev. of 7 runs, 10 loops each)\n",
      "\n",
      "msbfs_parents:\n",
      "14.4 ms ± 57.8 µs per loop (mean ± std. dev. of 7 runs, 100 loops each)\n",
      "\n",
      "\n",
      "\u001b[1mКоличество вершин: 200, степень разреженности: 0.50, доля стартовых вершин: 50%\n",
      "\u001b[0mmsbfs_levels:\n",
      "41.8 ms ± 2.77 ms per loop (mean ± std. dev. of 7 runs, 10 loops each)\n",
      "\n",
      "msbfs_parents:\n",
      "33.1 ms ± 721 µs per loop (mean ± std. dev. of 7 runs, 10 loops each)\n",
      "\n",
      "\n",
      "\u001b[1mКоличество вершин: 400, степень разреженности: 0.50, доля стартовых вершин: 50%\n",
      "\u001b[0mmsbfs_levels:\n",
      "75.8 ms ± 396 µs per loop (mean ± std. dev. of 7 runs, 10 loops each)\n",
      "\n",
      "msbfs_parents:\n",
      "96.9 ms ± 8.57 ms per loop (mean ± std. dev. of 7 runs, 10 loops each)\n",
      "\n",
      "\n",
      "\u001b[1mКоличество вершин: 800, степень разреженности: 0.50, доля стартовых вершин: 50%\n",
      "\u001b[0mmsbfs_levels:\n",
      "180 ms ± 13.9 ms per loop (mean ± std. dev. of 7 runs, 10 loops each)\n",
      "\n",
      "msbfs_parents:\n",
      "373 ms ± 15.9 ms per loop (mean ± std. dev. of 7 runs, 1 loop each)\n",
      "\n",
      "\n"
     ]
    }
   ],
   "source": [
    "# Зависимость от числа вершин (при фикс степени разреженности и фикс числе стартовых вершин)\n",
    "for i in [100, 200, 400, 800]:\n",
    "    fix_raref_deg, num_starts = 0.5, 50 # фиксированные значения степени разреженности и числа стартовых вершин\n",
    "    generated_graph = generate_graph(i, int(fix_raref_deg * i * (i-1)))\n",
    "    num_vertices = generated_graph.shape[0]\n",
    "    num_edges = len(generated_graph.to_coo()[0])\n",
    "    rerefaction_deg = num_edges / (num_vertices * (num_vertices - 1))\n",
    "    print(Style.BRIGHT + f'Количество вершин: {num_vertices}, степень разреженности: {rerefaction_deg:.2f}, доля стартовых вершин: {num_starts}%')\n",
    "    print(Style.RESET_ALL, end='')\n",
    "    test(generated_graph, gen_vertices(i, num_starts))"
   ]
  },
  {
   "cell_type": "code",
   "execution_count": 14,
   "id": "2c02c337",
   "metadata": {},
   "outputs": [
    {
     "name": "stdout",
     "output_type": "stream",
     "text": [
      "\u001b[1mКоличество вершин: 500, степень разреженности: 0.20, доля стартовых вершин: 50%\n",
      "\u001b[0mmsbfs_levels:\n",
      "96.8 ms ± 361 µs per loop (mean ± std. dev. of 7 runs, 10 loops each)\n",
      "\n",
      "msbfs_parents:\n",
      "82.8 ms ± 2.7 ms per loop (mean ± std. dev. of 7 runs, 10 loops each)\n",
      "\n",
      "\n",
      "\u001b[1mКоличество вершин: 500, степень разреженности: 0.40, доля стартовых вершин: 50%\n",
      "\u001b[0mmsbfs_levels:\n",
      "92.4 ms ± 279 µs per loop (mean ± std. dev. of 7 runs, 10 loops each)\n",
      "\n",
      "msbfs_parents:\n",
      "105 ms ± 7.83 ms per loop (mean ± std. dev. of 7 runs, 10 loops each)\n",
      "\n",
      "\n",
      "\u001b[1mКоличество вершин: 500, степень разреженности: 0.60, доля стартовых вершин: 50%\n",
      "\u001b[0mmsbfs_levels:\n",
      "97 ms ± 1.66 ms per loop (mean ± std. dev. of 7 runs, 10 loops each)\n",
      "\n",
      "msbfs_parents:\n",
      "133 ms ± 4.68 ms per loop (mean ± std. dev. of 7 runs, 10 loops each)\n",
      "\n",
      "\n",
      "\u001b[1mКоличество вершин: 500, степень разреженности: 0.80, доля стартовых вершин: 50%\n",
      "\u001b[0mmsbfs_levels:\n",
      "95.9 ms ± 381 µs per loop (mean ± std. dev. of 7 runs, 10 loops each)\n",
      "\n",
      "msbfs_parents:\n",
      "115 ms ± 6.16 ms per loop (mean ± std. dev. of 7 runs, 10 loops each)\n",
      "\n",
      "\n"
     ]
    }
   ],
   "source": [
    "# Зависимость от степени разреженности (при фикс числе вершин и фикс числе стартовых вершин)\n",
    "for i in [0.2, 0.4, 0.6, 0.8]:\n",
    "    num_vert, num_starts = 500, 50 # фиксированные число вершин и число стартовых вершин\n",
    "    generated_graph = generate_graph(num_vert, int(i * num_vert * (num_vert-1)))\n",
    "    num_vertices = generated_graph.shape[0]\n",
    "    num_edges = len(generated_graph.to_coo()[0])\n",
    "    rerefaction_deg = num_edges / (num_vertices * (num_vertices - 1))\n",
    "    print(Style.BRIGHT + f'Количество вершин: {num_vertices}, степень разреженности: {rerefaction_deg:.2f}, доля стартовых вершин: {num_starts}%')\n",
    "    print(Style.RESET_ALL, end='')\n",
    "    test(generated_graph, gen_vertices(num_vert, num_starts))"
   ]
  },
  {
   "cell_type": "code",
   "execution_count": 15,
   "id": "f29be05e",
   "metadata": {},
   "outputs": [
    {
     "name": "stdout",
     "output_type": "stream",
     "text": [
      "\u001b[1mКоличество вершин: 500, степень разреженности: 0.50, доля стартовых вершин: 20%\n",
      "\u001b[0mmsbfs_levels:\n",
      "43.4 ms ± 1.61 ms per loop (mean ± std. dev. of 7 runs, 10 loops each)\n",
      "\n",
      "msbfs_parents:\n",
      "85.7 ms ± 4.93 ms per loop (mean ± std. dev. of 7 runs, 10 loops each)\n",
      "\n",
      "\n",
      "\u001b[1mКоличество вершин: 500, степень разреженности: 0.50, доля стартовых вершин: 40%\n",
      "\u001b[0mmsbfs_levels:\n",
      "79.1 ms ± 2.26 ms per loop (mean ± std. dev. of 7 runs, 10 loops each)\n",
      "\n",
      "msbfs_parents:\n",
      "116 ms ± 5.96 ms per loop (mean ± std. dev. of 7 runs, 10 loops each)\n",
      "\n",
      "\n",
      "\u001b[1mКоличество вершин: 500, степень разреженности: 0.50, доля стартовых вершин: 60%\n",
      "\u001b[0mmsbfs_levels:\n",
      "118 ms ± 4.06 ms per loop (mean ± std. dev. of 7 runs, 10 loops each)\n",
      "\n",
      "msbfs_parents:\n",
      "157 ms ± 4.93 ms per loop (mean ± std. dev. of 7 runs, 10 loops each)\n",
      "\n",
      "\n",
      "\u001b[1mКоличество вершин: 500, степень разреженности: 0.50, доля стартовых вершин: 80%\n",
      "\u001b[0mmsbfs_levels:\n",
      "152 ms ± 2.39 ms per loop (mean ± std. dev. of 7 runs, 10 loops each)\n",
      "\n",
      "msbfs_parents:\n",
      "197 ms ± 10.8 ms per loop (mean ± std. dev. of 7 runs, 10 loops each)\n",
      "\n",
      "\n"
     ]
    }
   ],
   "source": [
    "# Зависимость от числа стартовых вершин (при фикс числе вершин и фикс степени разреженности)\n",
    "for i in [20, 40, 60, 80]:\n",
    "    num_vert, fix_raref_deg = 500, 0.5 # фиксированные число вершин и значение степени разреженности\n",
    "    generated_graph = generate_graph(num_vert, int(fix_raref_deg * num_vert * (num_vert-1)))\n",
    "    num_vertices = generated_graph.shape[0]\n",
    "    num_edges = len(generated_graph.to_coo()[0])\n",
    "    rerefaction_deg = num_edges / (num_vertices * (num_vertices - 1))\n",
    "    print(Style.BRIGHT + f'Количество вершин: {num_vertices}, степень разреженности: {rerefaction_deg:.2f}, доля стартовых вершин: {i}%')\n",
    "    print(Style.RESET_ALL, end='')\n",
    "    test(generated_graph, gen_vertices(num_vert, i))"
   ]
  },
  {
   "cell_type": "markdown",
   "id": "b1ab08a2",
   "metadata": {},
   "source": [
    "**Выводы**\n",
    "\n",
    "* С ростом числа вершин (при степени разреженности = 0.5 и числе стартовых вершин = 50%) увеличивается время работы обоих алгоритмов. Это связано с тем, что увеличивается количество столбцов матриц, что влечет к усложнению произведения матричного умножения. Стоит отметить, что зависимость времени для алгоритма msbfs_levels от числа вершин примерно линейная, в то время как для второго алгоритма зависимость уже является степенной.\n",
    "\n",
    "* При увеличении числа стартовых вершин (при фиксированном числе вершин = 500 и степени разреженности = 50%) также можно отметить увеличение времени работы алгоритмов, в обоих случаях зависимость близка к линейной. Это объясняется всё тем же \"удорожанием\" матричного умножения, т.к. увеличение числа стартовых вершин напрямую сказывается на строковой размерности фронта.\n",
    "\n",
    "* При увеличении степени разреженности (при уплотнении графа) какой-то явной зависимости выявлено не было. Более того, по результатам тестов получилось так, что алгоритмы работают быстрее на графах со средней степенью разреженности. В целом, это можно назвать логичным, поскольку алгоритмы адаптируются под реальные графы, а на практике очень редко можно встретить практически полные или совсем разреженные графы.\n",
    "\n",
    "* Что касается сравнения время работы алгоритмов друг с другом, то тут можно сказать следующее: с увеличением размеров графа msbfs_parents всё более явно начинает дольше работать, нежели msbfs_levels."
   ]
  },
  {
   "cell_type": "markdown",
   "id": "ed2c14b6",
   "metadata": {},
   "source": [
    "№5. (+3 балла) Добавить реализации описанных алгоритмов с использованием других полуколец (any.pair для levels и any.first для parents). Добавить тесты для проверки корректности. Провести экспериментальное исследование со сравнением этих реализаций с первоначальными на различных графах."
   ]
  },
  {
   "cell_type": "markdown",
   "id": "318016d7",
   "metadata": {},
   "source": [
    "Все, что меняется в функциях, это то, что изменяется полукольцо в параметре semiring на any_pair и any_first."
   ]
  },
  {
   "cell_type": "code",
   "execution_count": 16,
   "id": "550e9f1b",
   "metadata": {},
   "outputs": [],
   "source": [
    "def msbfs_levels_anypair(A, start_vertices):\n",
    "    if A.isequal(A.T) and A.nvals > 0: \n",
    "        raise Exception(\"Error!!! Граф неориентированный!\")\n",
    "        \n",
    "    n = A.nrows\n",
    "    m = start_vertices.size\n",
    "    result = Matrix(dtypes.INT32, m, n)\n",
    "    f = Matrix(bool, m, n)\n",
    "    succ = Vector(bool, m)\n",
    "    \n",
    "    for i in range(m):\n",
    "        f[i, start_vertices[i]] << True \n",
    "    \n",
    "    level = 0\n",
    "    while True:\n",
    "        result(mask=f.V) << level \n",
    "        f(~result.S, replace=True) << f.mxm(A, semiring.any_pair)\n",
    "        for i in range(m):\n",
    "            succ[i] << f[i, :].reduce(monoid.lor, allow_empty=False) \n",
    "            \n",
    "        finish_flg = True\n",
    "        for i in range(m):\n",
    "            if succ[i]:\n",
    "                finish_flg = False\n",
    "                break\n",
    "                \n",
    "        if finish_flg:\n",
    "            break\n",
    "            \n",
    "        level += 1    \n",
    "        \n",
    "    res = result.to_dense(fill_value=-1)\n",
    "    output = {}\n",
    "    for i, vert in enumerate(start_vertices):\n",
    "        output[vert] = res[i, :]\n",
    "        \n",
    "    return output"
   ]
  },
  {
   "cell_type": "code",
   "execution_count": 17,
   "id": "2505da0a",
   "metadata": {},
   "outputs": [],
   "source": [
    "def msbfs_parents_anyfirst(A, start_vertices):\n",
    "    if A.isequal(A.T) and A.nvals > 0: \n",
    "        raise Exception(\"Error!!! Граф неориентированный!\")\n",
    "\n",
    "    N = A.nrows\n",
    "    M = start_vertices.size\n",
    "\n",
    "    index_ramp = Matrix(dtypes.UINT64, M, N)\n",
    "    for j in range(N):\n",
    "        index_ramp[:, j] << j\n",
    "        \n",
    "    parents = Matrix(dtypes.INT64, M, N)\n",
    "    wavefront = Matrix(dtypes.UINT64, M, N)\n",
    "    \n",
    "    for i in range(M):\n",
    "        parents[i, start_vertices[i]] << start_vertices[i]\n",
    "        wavefront[i, start_vertices[i]] << 1\n",
    "        \n",
    "    while wavefront.nvals > 0:\n",
    "        wavefront << index_ramp.ewise_mult(wavefront, binary.first)\n",
    "        wavefront(~parents.S, replace=True) << wavefront.mxm(A, semiring.any_first)\n",
    "        parents(binary.plus) << wavefront \n",
    "    \n",
    "    for ind in range(len(start_vertices)):\n",
    "        parents[ind, start_vertices[ind]] << -1\n",
    "    \n",
    "    res = parents.to_dense(fill_value=-2)\n",
    "    output = {}\n",
    "    for i, vert in enumerate(start_vertices):\n",
    "        output[vert] = res[i, :]\n",
    "    \n",
    "    return output"
   ]
  },
  {
   "cell_type": "markdown",
   "id": "18422d10",
   "metadata": {},
   "source": [
    "**Проверка корректности** (берем прошлые тесты)"
   ]
  },
  {
   "cell_type": "code",
   "execution_count": 18,
   "id": "65a5e38c",
   "metadata": {},
   "outputs": [
    {
     "name": "stdout",
     "output_type": "stream",
     "text": [
      "msbfs_levels_anypair: Тест пройден\n"
     ]
    }
   ],
   "source": [
    "try:\n",
    "    msbfs_levels_anypair(M1, np.array([0, 1, 2, 3]))\n",
    "except Exception as e:\n",
    "    if str(e) == \"Error!!! Граф неориентированный!\":\n",
    "        print(\"msbfs_levels_anypair: Тест пройден\")\n",
    "    else:\n",
    "        print(f\"msbfs_levels_anypair: Неверное сообщение об ошибке: {e}\")\n",
    "else:\n",
    "    print(\"msbfs_levels_anypair: Исключение не было вызвано\")"
   ]
  },
  {
   "cell_type": "code",
   "execution_count": 19,
   "id": "9ecf8d55",
   "metadata": {},
   "outputs": [
    {
     "name": "stdout",
     "output_type": "stream",
     "text": [
      "msbfs_parents_anyfirst: Тест пройден\n"
     ]
    }
   ],
   "source": [
    "try:\n",
    "    msbfs_parents_anyfirst(M1, np.array([0, 1, 2, 3]))\n",
    "except Exception as e:\n",
    "    if str(e) == \"Error!!! Граф неориентированный!\":\n",
    "        print(\"msbfs_parents_anyfirst: Тест пройден\")\n",
    "    else:\n",
    "        print(f\"msbfs_parents_anyfirst: Неверное сообщение об ошибке: {e}\")\n",
    "else:\n",
    "    print(\"msbfs_parents_anyfirst: Исключение не было вызвано\")"
   ]
  },
  {
   "cell_type": "code",
   "execution_count": 20,
   "id": "fed6de7d",
   "metadata": {},
   "outputs": [],
   "source": [
    "assert (msbfs_levels_anypair(M2, np.array([0, 1, 3]))[0]==np.array([0, 1, 2, 1])).all()\n",
    "assert (msbfs_levels_anypair(M2, np.array([0, 1, 3]))[1]==np.array([-1, 0, 1, 2])).all()\n",
    "assert (msbfs_levels_anypair(M2, np.array([0, 1, 3]))[3]==np.array([-1, -1, -1, 0])).all()\n",
    "\n",
    "assert (msbfs_parents_anyfirst(M2, np.array([0, 1, 3]))[0]==np.array([-1, 0, 1, 0])).all()\n",
    "assert (msbfs_parents_anyfirst(M2, np.array([0, 1, 3]))[1]==np.array([-2, -1, 1, 2])).all()\n",
    "assert (msbfs_parents_anyfirst(M2, np.array([0, 1, 3]))[3]==np.array([-2, -2, -2, -1])).all()"
   ]
  },
  {
   "cell_type": "code",
   "execution_count": 21,
   "id": "2a6d0a7b",
   "metadata": {},
   "outputs": [],
   "source": [
    "assert (msbfs_levels_anypair(M3, np.array([3, 2, 1]))[3]==np.array([-1, -1, 1, 0])).all()\n",
    "assert (msbfs_levels_anypair(M3, np.array([3, 2, 1]))[2]==np.array([-1, -1, 0, 1])).all()\n",
    "assert (msbfs_levels_anypair(M3, np.array([3, 2, 1]))[1]==np.array([-1, 0, -1, -1])).all()\n",
    "\n",
    "assert (msbfs_parents_anyfirst(M3, np.array([3, 2, 1]))[3]==np.array([-2, -2, 3, -1])).all()\n",
    "assert (msbfs_parents_anyfirst(M3, np.array([3, 2, 1]))[2]==np.array([-2, -2, -1, 2])).all()\n",
    "assert (msbfs_parents_anyfirst(M3, np.array([3, 2, 1]))[1]==np.array([-2, -1, -2, -2])).all()"
   ]
  },
  {
   "cell_type": "code",
   "execution_count": 22,
   "id": "6a9dfa45",
   "metadata": {},
   "outputs": [],
   "source": [
    "# Тестирование\n",
    "def test_any(A, start_vertices):\n",
    "    print('msbfs_levels_anypair:')\n",
    "    %timeit msbfs_levels_anypair(A, start_vertices)\n",
    "    print()\n",
    "    print('msbfs_parents_anyfirst:')\n",
    "    %timeit msbfs_parents_anyfirst(A, start_vertices)\n",
    "    print('\\n')"
   ]
  },
  {
   "cell_type": "markdown",
   "id": "8b413078",
   "metadata": {},
   "source": [
    "**Тестирование на тех же графах с SuiteSparse Matrix Collection**"
   ]
  },
  {
   "cell_type": "code",
   "execution_count": 23,
   "id": "b977b435",
   "metadata": {},
   "outputs": [
    {
     "name": "stdout",
     "output_type": "stream",
     "text": [
      "\u001b[1mДля Roget.mtx.mtx (Количество вершин: 1022, количество ребер: 5075), степень разреженности: 0.0049\n",
      "\u001b[0mКоличество стартовых вершин: 51\n",
      "msbfs_levels_anypair:\n",
      "79.4 ms ± 6.39 ms per loop (mean ± std. dev. of 7 runs, 10 loops each)\n",
      "\n",
      "msbfs_parents_anyfirst:\n",
      "83.6 ms ± 4.68 ms per loop (mean ± std. dev. of 7 runs, 10 loops each)\n",
      "\n",
      "\n",
      "Количество стартовых вершин: 357\n",
      "msbfs_levels_anypair:\n",
      "590 ms ± 3.51 ms per loop (mean ± std. dev. of 7 runs, 1 loop each)\n",
      "\n",
      "msbfs_parents_anyfirst:\n",
      "190 ms ± 18 ms per loop (mean ± std. dev. of 7 runs, 10 loops each)\n",
      "\n",
      "\n",
      "Количество стартовых вершин: 715\n",
      "msbfs_levels_anypair:\n",
      "1.33 s ± 167 ms per loop (mean ± std. dev. of 7 runs, 1 loop each)\n",
      "\n",
      "msbfs_parents_anyfirst:\n",
      "262 ms ± 6.74 ms per loop (mean ± std. dev. of 7 runs, 1 loop each)\n",
      "\n",
      "\n",
      "Количество стартовых вершин: 970\n",
      "msbfs_levels_anypair:\n",
      "1.59 s ± 65.9 ms per loop (mean ± std. dev. of 7 runs, 1 loop each)\n",
      "\n",
      "msbfs_parents_anyfirst:\n",
      "364 ms ± 17.7 ms per loop (mean ± std. dev. of 7 runs, 1 loop each)\n",
      "\n",
      "\n",
      "\n",
      "\u001b[1mДля CSphd.mtx.mtx (Количество вершин: 1882, количество ребер: 1740), степень разреженности: 0.0005\n",
      "\u001b[0mКоличество стартовых вершин: 94\n",
      "msbfs_levels_anypair:\n",
      "119 ms ± 911 µs per loop (mean ± std. dev. of 7 runs, 10 loops each)\n",
      "\n",
      "msbfs_parents_anyfirst:\n",
      "164 ms ± 14.2 ms per loop (mean ± std. dev. of 7 runs, 10 loops each)\n",
      "\n",
      "\n",
      "Количество стартовых вершин: 658\n",
      "msbfs_levels_anypair:\n",
      "802 ms ± 38 ms per loop (mean ± std. dev. of 7 runs, 1 loop each)\n",
      "\n",
      "msbfs_parents_anyfirst:\n",
      "319 ms ± 37.7 ms per loop (mean ± std. dev. of 7 runs, 1 loop each)\n",
      "\n",
      "\n",
      "Количество стартовых вершин: 1317\n",
      "msbfs_levels_anypair:\n",
      "1.74 s ± 66.6 ms per loop (mean ± std. dev. of 7 runs, 1 loop each)\n",
      "\n",
      "msbfs_parents_anyfirst:\n",
      "471 ms ± 23.6 ms per loop (mean ± std. dev. of 7 runs, 1 loop each)\n",
      "\n",
      "\n",
      "Количество стартовых вершин: 1787\n",
      "msbfs_levels_anypair:\n",
      "2.27 s ± 104 ms per loop (mean ± std. dev. of 7 runs, 1 loop each)\n",
      "\n",
      "msbfs_parents_anyfirst:\n",
      "602 ms ± 42.6 ms per loop (mean ± std. dev. of 7 runs, 1 loop each)\n",
      "\n",
      "\n",
      "\n",
      "\u001b[1mДля GD06_Java.mtx.mtx (Количество вершин: 1538, количество ребер: 8032), степень разреженности: 0.0034\n",
      "\u001b[0mКоличество стартовых вершин: 76\n",
      "msbfs_levels_anypair:\n",
      "106 ms ± 3.8 ms per loop (mean ± std. dev. of 7 runs, 10 loops each)\n",
      "\n",
      "msbfs_parents_anyfirst:\n",
      "130 ms ± 7.13 ms per loop (mean ± std. dev. of 7 runs, 10 loops each)\n",
      "\n",
      "\n",
      "Количество стартовых вершин: 538\n",
      "msbfs_levels_anypair:\n",
      "781 ms ± 32.2 ms per loop (mean ± std. dev. of 7 runs, 1 loop each)\n",
      "\n",
      "msbfs_parents_anyfirst:\n",
      "280 ms ± 11.9 ms per loop (mean ± std. dev. of 7 runs, 1 loop each)\n",
      "\n",
      "\n",
      "Количество стартовых вершин: 1076\n",
      "msbfs_levels_anypair:\n",
      "1.54 s ± 58.3 ms per loop (mean ± std. dev. of 7 runs, 1 loop each)\n",
      "\n",
      "msbfs_parents_anyfirst:\n",
      "447 ms ± 10.3 ms per loop (mean ± std. dev. of 7 runs, 1 loop each)\n",
      "\n",
      "\n",
      "Количество стартовых вершин: 1461\n",
      "msbfs_levels_anypair:\n",
      "2.06 s ± 60.5 ms per loop (mean ± std. dev. of 7 runs, 1 loop each)\n",
      "\n",
      "msbfs_parents_anyfirst:\n",
      "580 ms ± 18.3 ms per loop (mean ± std. dev. of 7 runs, 1 loop each)\n",
      "\n",
      "\n",
      "\n"
     ]
    }
   ],
   "source": [
    "# 1. Зависимость времени работы от размера графа (и степени разреженности)\n",
    "for graph_name in graph_names:\n",
    "    graph = mmread(graph_name)\n",
    "    num_vertices = graph.shape[0]\n",
    "    num_edges = len(graph.to_coo()[0])\n",
    "    rerefaction_deg = num_edges / (num_vertices * (num_vertices - 1))\n",
    "    print(Style.BRIGHT + f'Для {graph_name}.mtx (Количество вершин: {num_vertices}, количество ребер: {num_edges}), степень разреженности: {rerefaction_deg:.4f}')\n",
    "    print(Style.RESET_ALL, end='')\n",
    "    \n",
    "    # 2. Зависимость времени работы от числа стартовых вершин\n",
    "    for vertex_frac in vertex_fracs:\n",
    "        print(f'Количество стартовых вершин: {int(vertex_frac / 100 * graph.nrows)}')\n",
    "        test_any(graph, gen_vertices(graph.nrows, vertex_frac))\n",
    "    print()"
   ]
  },
  {
   "cell_type": "markdown",
   "id": "492b45ac",
   "metadata": {},
   "source": [
    "**Тестирование на случайно сгенерированных графах**"
   ]
  },
  {
   "cell_type": "code",
   "execution_count": 24,
   "id": "19737633",
   "metadata": {},
   "outputs": [
    {
     "name": "stdout",
     "output_type": "stream",
     "text": [
      "\u001b[1mКоличество вершин: 100, степень разреженности: 0.50, доля стартовых вершин: 50%\n",
      "\u001b[0mmsbfs_levels_anypair:\n",
      "20.6 ms ± 529 µs per loop (mean ± std. dev. of 7 runs, 10 loops each)\n",
      "\n",
      "msbfs_parents_anyfirst:\n",
      "14.2 ms ± 131 µs per loop (mean ± std. dev. of 7 runs, 100 loops each)\n",
      "\n",
      "\n",
      "\u001b[1mКоличество вершин: 200, степень разреженности: 0.50, доля стартовых вершин: 50%\n",
      "\u001b[0mmsbfs_levels_anypair:\n",
      "46.9 ms ± 2.4 ms per loop (mean ± std. dev. of 7 runs, 10 loops each)\n",
      "\n",
      "msbfs_parents_anyfirst:\n",
      "36.2 ms ± 2.71 ms per loop (mean ± std. dev. of 7 runs, 10 loops each)\n",
      "\n",
      "\n",
      "\u001b[1mКоличество вершин: 400, степень разреженности: 0.50, доля стартовых вершин: 50%\n",
      "\u001b[0mmsbfs_levels_anypair:\n",
      "76.4 ms ± 390 µs per loop (mean ± std. dev. of 7 runs, 10 loops each)\n",
      "\n",
      "msbfs_parents_anyfirst:\n",
      "83.7 ms ± 4.28 ms per loop (mean ± std. dev. of 7 runs, 10 loops each)\n",
      "\n",
      "\n",
      "\u001b[1mКоличество вершин: 800, степень разреженности: 0.50, доля стартовых вершин: 50%\n",
      "\u001b[0mmsbfs_levels_anypair:\n",
      "179 ms ± 3.7 ms per loop (mean ± std. dev. of 7 runs, 10 loops each)\n",
      "\n",
      "msbfs_parents_anyfirst:\n",
      "358 ms ± 20.7 ms per loop (mean ± std. dev. of 7 runs, 1 loop each)\n",
      "\n",
      "\n"
     ]
    }
   ],
   "source": [
    "# Зависимость от числа вершин (при фикс степени разреженности и фикс числе стартовых вершин)\n",
    "for i in [100, 200, 400, 800]:\n",
    "    fix_raref_deg, num_starts = 0.5, 50 # фиксированные значения степени разреженности и числа стартовых вершин\n",
    "    generated_graph = generate_graph(i, int(fix_raref_deg * i * (i-1)))\n",
    "    num_vertices = generated_graph.shape[0]\n",
    "    num_edges = len(generated_graph.to_coo()[0])\n",
    "    rerefaction_deg = num_edges / (num_vertices * (num_vertices - 1))\n",
    "    print(Style.BRIGHT + f'Количество вершин: {num_vertices}, степень разреженности: {rerefaction_deg:.2f}, доля стартовых вершин: {num_starts}%')\n",
    "    print(Style.RESET_ALL, end='')\n",
    "    test_any(generated_graph, gen_vertices(i, num_starts))"
   ]
  },
  {
   "cell_type": "code",
   "execution_count": 25,
   "id": "c8f5a1fe",
   "metadata": {},
   "outputs": [
    {
     "name": "stdout",
     "output_type": "stream",
     "text": [
      "\u001b[1mКоличество вершин: 500, степень разреженности: 0.20, доля стартовых вершин: 50%\n",
      "\u001b[0mmsbfs_levels_anypair:\n",
      "97.6 ms ± 1.11 ms per loop (mean ± std. dev. of 7 runs, 10 loops each)\n",
      "\n",
      "msbfs_parents_anyfirst:\n",
      "79.9 ms ± 2.26 ms per loop (mean ± std. dev. of 7 runs, 10 loops each)\n",
      "\n",
      "\n",
      "\u001b[1mКоличество вершин: 500, степень разреженности: 0.40, доля стартовых вершин: 50%\n",
      "\u001b[0mmsbfs_levels_anypair:\n",
      "95.8 ms ± 357 µs per loop (mean ± std. dev. of 7 runs, 10 loops each)\n",
      "\n",
      "msbfs_parents_anyfirst:\n",
      "91.8 ms ± 5.45 ms per loop (mean ± std. dev. of 7 runs, 10 loops each)\n",
      "\n",
      "\n",
      "\u001b[1mКоличество вершин: 500, степень разреженности: 0.60, доля стартовых вершин: 50%\n",
      "\u001b[0mmsbfs_levels_anypair:\n",
      "99.5 ms ± 3.42 ms per loop (mean ± std. dev. of 7 runs, 10 loops each)\n",
      "\n",
      "msbfs_parents_anyfirst:\n",
      "120 ms ± 4.28 ms per loop (mean ± std. dev. of 7 runs, 10 loops each)\n",
      "\n",
      "\n",
      "\u001b[1mКоличество вершин: 500, степень разреженности: 0.80, доля стартовых вершин: 50%\n",
      "\u001b[0mmsbfs_levels_anypair:\n",
      "94.9 ms ± 263 µs per loop (mean ± std. dev. of 7 runs, 10 loops each)\n",
      "\n",
      "msbfs_parents_anyfirst:\n",
      "101 ms ± 4.24 ms per loop (mean ± std. dev. of 7 runs, 10 loops each)\n",
      "\n",
      "\n"
     ]
    }
   ],
   "source": [
    "# Зависимость от степени разреженности (при фикс числе вершин и фикс числе стартовых вершин)\n",
    "for i in [0.2, 0.4, 0.6, 0.8]:\n",
    "    num_vert, num_starts = 500, 50 # фиксированные число вершин и число стартовых вершин\n",
    "    generated_graph = generate_graph(num_vert, int(i * num_vert * (num_vert-1)))\n",
    "    num_vertices = generated_graph.shape[0]\n",
    "    num_edges = len(generated_graph.to_coo()[0])\n",
    "    rerefaction_deg = num_edges / (num_vertices * (num_vertices - 1))\n",
    "    print(Style.BRIGHT + f'Количество вершин: {num_vertices}, степень разреженности: {rerefaction_deg:.2f}, доля стартовых вершин: {num_starts}%')\n",
    "    print(Style.RESET_ALL, end='')\n",
    "    test_any(generated_graph, gen_vertices(num_vert, num_starts))"
   ]
  },
  {
   "cell_type": "code",
   "execution_count": null,
   "id": "f4f7b925",
   "metadata": {},
   "outputs": [
    {
     "name": "stdout",
     "output_type": "stream",
     "text": [
      "\u001b[1mКоличество вершин: 500, степень разреженности: 0.50, доля стартовых вершин: 20%\n",
      "\u001b[0mmsbfs_levels_anypair:\n",
      "49 ms ± 2.74 ms per loop (mean ± std. dev. of 7 runs, 10 loops each)\n",
      "\n",
      "msbfs_parents_anyfirst:\n",
      "77.2 ms ± 5.71 ms per loop (mean ± std. dev. of 7 runs, 10 loops each)\n",
      "\n",
      "\n",
      "\u001b[1mКоличество вершин: 500, степень разреженности: 0.50, доля стартовых вершин: 40%\n",
      "\u001b[0mmsbfs_levels_anypair:\n",
      "81.4 ms ± 2.45 ms per loop (mean ± std. dev. of 7 runs, 10 loops each)\n",
      "\n",
      "msbfs_parents_anyfirst:\n"
     ]
    }
   ],
   "source": [
    "# Зависимость от числа стартовых вершин (при фикс числе вершин и фикс степени разреженности)\n",
    "for i in [20, 40, 60, 80]:\n",
    "    num_vert, fix_raref_deg = 500, 0.5 # фиксированные число вершин и значение степени разреженности\n",
    "    generated_graph = generate_graph(num_vert, int(fix_raref_deg * num_vert * (num_vert-1)))\n",
    "    num_vertices = generated_graph.shape[0]\n",
    "    num_edges = len(generated_graph.to_coo()[0])\n",
    "    rerefaction_deg = num_edges / (num_vertices * (num_vertices - 1))\n",
    "    print(Style.BRIGHT + f'Количество вершин: {num_vertices}, степень разреженности: {rerefaction_deg:.2f}, доля стартовых вершин: {i}%')\n",
    "    print(Style.RESET_ALL, end='')\n",
    "    test_any(generated_graph, gen_vertices(num_vert, i))"
   ]
  },
  {
   "cell_type": "markdown",
   "id": "dfd2c23e",
   "metadata": {},
   "source": [
    "**Выводы**\n",
    "\n",
    "При сравнении алгоритмов с различными полукольцами можно сделать вывод о том, что в целом время отработки алгоритмов практически не изменилось в среднем, хотя в крайних случаях (небольшие графы / очень разреженные / очень плотные/ небольшое число стартовых вершин) работает лучше."
   ]
  }
 ],
 "metadata": {
  "kernelspec": {
   "display_name": "Python 3 (ipykernel)",
   "language": "python",
   "name": "python3"
  },
  "language_info": {
   "codemirror_mode": {
    "name": "ipython",
    "version": 3
   },
   "file_extension": ".py",
   "mimetype": "text/x-python",
   "name": "python",
   "nbconvert_exporter": "python",
   "pygments_lexer": "ipython3",
   "version": "3.11.5"
  }
 },
 "nbformat": 4,
 "nbformat_minor": 5
}
