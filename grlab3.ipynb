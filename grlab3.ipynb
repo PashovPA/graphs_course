{
 "cells": [
  {
   "cell_type": "code",
   "execution_count": 1,
   "id": "5291ae49",
   "metadata": {},
   "outputs": [],
   "source": [
    "import numpy as np\n",
    "import pandas as pd\n",
    "import networkx as nx\n",
    "import matplotlib.pyplot as plt\n",
    "import graphblas as gb\n",
    "from graphblas import Matrix, Vector, Scalar\n",
    "from graphblas import dtypes\n",
    "from graphblas import unary, binary, monoid, semiring\n",
    "from graphblas.io import mmread"
   ]
  },
  {
   "cell_type": "markdown",
   "id": "22b99de9",
   "metadata": {},
   "source": [
    "№1. Используя python-graphblas реализовать функцию поиска кратчайших путей в ориентированном графе из заданной вершины (Bellman–Ford). Функция принимает представление графа, удобное для неё (загрузка, конвертация реализованы отдельно) и номер стартовой вершины. Функция возвращает массив, где для каждой вершины указано расстояние до неё от указанной стартовой вершины. Если вершина не достижима или кратчайшего пути для неё не существует, то значение соответствующей ячейки равно float('inf')."
   ]
  },
  {
   "cell_type": "code",
   "execution_count": 2,
   "id": "4bf88c60",
   "metadata": {},
   "outputs": [],
   "source": [
    "def bellman_ford(matrix, start_vertex):\n",
    "    num_vertices = matrix.nrows\n",
    "    distances = Vector(matrix.dtype, num_vertices)\n",
    "    distances[start_vertex] << 0.0\n",
    "\n",
    "    for _ in range(num_vertices - 1):\n",
    "        new_distances = distances.dup()\n",
    "        new_distances(binary.min) << distances.vxm(matrix, semiring.min_plus)\n",
    "\n",
    "        if distances.isequal(new_distances):\n",
    "            break\n",
    "        distances = new_distances\n",
    "\n",
    "    check_distances = distances.dup()\n",
    "    check_distances(binary.min) << distances.vxm(matrix, semiring.min_plus)\n",
    "\n",
    "    if not distances.isequal(check_distances):\n",
    "        raise ValueError(\"Граф содержит цикл отрицательного веса\")\n",
    "\n",
    "    final_distances = np.full(num_vertices, float('inf'))\n",
    "    indices, values = distances.to_coo()\n",
    "    for index, value in zip(indices, values):\n",
    "        final_distances[index] = value\n",
    "\n",
    "    return final_distances"
   ]
  },
  {
   "cell_type": "markdown",
   "id": "9c414297",
   "metadata": {},
   "source": [
    "№2. Используя python-graphblas реализовать функцию поиска кратчайших путей в ориентированном графе из нескольких заданных вершин, модифицировав предыдущий алгоритм. Функция принимает представление графа, удобное для неё (загрузка, конвертация реализованы отдельно) и массив номеров стартовых вершин. Функция возвращает массив пар: вершина, и массив, где для каждой вершины указано расстояние до неё из указанной. Если вершина не достижима или кратчайшего пути для неё не существует, то значение соответствующей ячейки равно float('inf')."
   ]
  },
  {
   "cell_type": "code",
   "execution_count": 3,
   "id": "8a872063",
   "metadata": {},
   "outputs": [],
   "source": [
    "def bellman_ford_modify(matrix, start_vertex_ar):\n",
    "    num_vertices = matrix.nrows\n",
    "    num_start_vertices = len(start_vertex_ar)\n",
    "    distances = Matrix(matrix.dtype, num_start_vertices, num_vertices)\n",
    "    \n",
    "    for i, start_vertex in enumerate(start_vertex_ar):\n",
    "        distances[i, start_vertex] << 0.0\n",
    "\n",
    "    for _ in range(num_vertices - 1):\n",
    "        new_distances = distances.dup()\n",
    "        for i in range(num_start_vertices):\n",
    "            new_distances[i, :](binary.min) << distances[i, :].vxm(matrix, semiring.min_plus)\n",
    "\n",
    "        if distances.isequal(new_distances):\n",
    "            break\n",
    "        distances = new_distances\n",
    "\n",
    "    check_distances = distances.dup()\n",
    "    for i in range(num_start_vertices):\n",
    "        check_distances[i, :](binary.min) << distances[i, :].vxm(matrix, semiring.min_plus)\n",
    "\n",
    "    if not distances.isequal(check_distances):\n",
    "        raise ValueError(\"Граф содержит цикл отрицательного веса\")\n",
    "\n",
    "    output = {}\n",
    "    for i, start_vertex in enumerate(start_vertex_ar):\n",
    "        final_distances = np.full(num_vertices, float('inf'))\n",
    "        indices, values = distances[i, :].to_coo()\n",
    "        for index, value in zip(indices, values):\n",
    "            final_distances[index] = value\n",
    "        output[start_vertex] = final_distances\n",
    "\n",
    "    return output"
   ]
  },
  {
   "cell_type": "markdown",
   "id": "dd8913a9",
   "metadata": {},
   "source": [
    "№3. Используя python-graphblas реализовать две функции поиска кратчайших путей в ориентированном графе для всех пар вершин (Floyd–Warshall и вычисление транзитивного замыкания). Функции принимают представление графа, удобное для неё (загрузка, конвертация реализованы отдельно). Функции возвращают массив пар: вершина, и массив, где для каждой вершины указано расстояние до неё из указанной. Если вершина не достижима или кратчайшего пути для неё не существует, то значение соответствующей ячейки равно float('inf')."
   ]
  },
  {
   "cell_type": "code",
   "execution_count": 4,
   "id": "abb74e23",
   "metadata": {},
   "outputs": [],
   "source": [
    "def floyd_warshall(matrix):\n",
    "    num_vertices = matrix.nrows\n",
    "    distances = matrix.dup()\n",
    "\n",
    "    for k in range(num_vertices):\n",
    "        cur_distances = distances.dup()\n",
    "        D_col = Matrix(matrix.dtype, num_vertices, num_vertices)\n",
    "        D_row = Matrix(matrix.dtype, num_vertices, num_vertices)\n",
    "        D_col[:, k] = distances[:, k].dup()\n",
    "        D_row[k, :] = distances[k, :].dup()\n",
    "        cur_distances << D_col.mxm(D_row, semiring.min_plus)\n",
    "        distances << distances.ewise_add(cur_distances, binary.min)\n",
    "    check_distances = distances.dup()\n",
    "\n",
    "    for k in range(num_vertices):\n",
    "        D_col = Matrix(matrix.dtype, num_vertices, num_vertices)\n",
    "        D_row = Matrix(matrix.dtype, num_vertices, num_vertices)\n",
    "        D_col[:, k] = distances[:, k].dup()\n",
    "        D_row[k, :] = distances[k, :].dup()\n",
    "        cur_distances << D_col.mxm(D_row, semiring.min_plus)\n",
    "        check_distances << check_distances.ewise_add(cur_distances, binary.min)\n",
    "        if not check_distances.isequal(distances):\n",
    "            raise ValueError(\"Граф содержит цикл отрицательного веса\")\n",
    "\n",
    "    output = {}\n",
    "    for i in range(num_vertices):\n",
    "        final_distances = np.full(num_vertices, float('inf'))\n",
    "        for j in range(num_vertices):\n",
    "            if i == j:\n",
    "                final_distances[j] = 0\n",
    "            elif distances[i, j].value is None:\n",
    "                final_distances[j] = float('inf')\n",
    "            else:\n",
    "                final_distances[j] = distances[i, j].value\n",
    "        output[i] = np.array(final_distances)\n",
    "\n",
    "    return output"
   ]
  },
  {
   "cell_type": "code",
   "execution_count": 5,
   "id": "44c0f418",
   "metadata": {},
   "outputs": [],
   "source": [
    "def transitive_closure(matrix):\n",
    "    num_vertices = matrix.nrows\n",
    "    I = Matrix(matrix.dtype, num_vertices, num_vertices)\n",
    "    for i in range(num_vertices):\n",
    "        I[i, i] << 1\n",
    "    distances = I.dup()\n",
    "\n",
    "    for _ in range(num_vertices):\n",
    "        new_distances = distances.dup()\n",
    "        distances << distances.mxm(matrix, semiring.min_plus).ewise_add(I, binary.min)\n",
    "        \n",
    "        if distances.isequal(new_distances):\n",
    "            break\n",
    "\n",
    "    check_distances = distances.dup()\n",
    "    check_distances << check_distances.mxm(matrix, semiring.min_plus).ewise_add(I, binary.min)\n",
    "    if not distances.isequal(check_distances):\n",
    "        raise ValueError(\"Граф содержит цикл отрицательного веса\")\n",
    "\n",
    "    output = {}\n",
    "    for i in range(num_vertices):\n",
    "        final_distances = np.full(num_vertices, float('inf'))\n",
    "        for j in range(num_vertices):\n",
    "            if distances[i, j].value is None:\n",
    "                final_distances[j] = float('inf')\n",
    "            elif i == j:\n",
    "                final_distances[j] = 0\n",
    "            else:\n",
    "                final_distances[j] = distances[i, j].value - 1\n",
    "        output[i] = np.array(final_distances)\n",
    "\n",
    "    return output"
   ]
  },
  {
   "cell_type": "markdown",
   "id": "d4c453bb",
   "metadata": {},
   "source": [
    "№4.  Добавить необходимые тесты."
   ]
  },
  {
   "cell_type": "code",
   "execution_count": 6,
   "id": "f1ef48cc",
   "metadata": {},
   "outputs": [
    {
     "data": {
      "image/png": "[encoded data removed]",
      "text/plain": [
       "<Figure size 640x480 with 1 Axes>"
      ]
     },
     "metadata": {},
     "output_type": "display_data"
    },
    {
     "name": "stdout",
     "output_type": "stream",
     "text": [
      "BellmanFord:\n",
      "[14.  0.  9. 11.  7. 10.  4.]\n",
      "[inf inf  0. inf inf  1. inf]\n",
      "[ 3.  5.  3.  0. 12.  4.  9.]\n",
      "BellmanFordModify:\n",
      "{1: array([14.,  0.,  9., 11.,  7., 10.,  4.]), 2: array([inf, inf,  0., inf, inf,  1., inf]), 3: array([ 3.,  5.,  3.,  0., 12.,  4.,  9.])}\n",
      "FloydWarshall:\n",
      "{0: array([0., 2., 6., 3., 9., 7., 6.]), 1: array([14.,  0.,  9., 11.,  7., 10.,  4.]), 2: array([inf, inf,  0., inf, inf,  1., inf]), 3: array([ 3.,  5.,  3.,  0., 12.,  4.,  9.]), 4: array([inf, inf,  8., inf,  0.,  7., inf]), 5: array([inf, inf,  1., inf, inf,  0., inf]), 6: array([10., 12.,  5.,  7.,  3.,  6.,  0.])}\n",
      "TransitiveClosure:\n",
      "{0: array([0., 2., 6., 3., 9., 7., 6.]), 1: array([14.,  0.,  9., 11.,  7., 10.,  4.]), 2: array([inf, inf,  0., inf, inf,  1., inf]), 3: array([ 3.,  5.,  3.,  0., 12.,  4.,  9.]), 4: array([inf, inf,  8., inf,  0.,  7., inf]), 5: array([inf, inf,  1., inf, inf,  0., inf]), 6: array([10., 12.,  5.,  7.,  3.,  6.,  0.])}\n"
     ]
    }
   ],
   "source": [
    "import numpy as np\n",
    "data = [\n",
    "    [3, 0, 3, 5, 6, 0, 6, 1, 6, 2, 4, 1],\n",
    "    [0, 1, 2, 2, 2, 3, 3, 4, 4, 5, 5, 6],\n",
    "    [3, 2, 3, 1, 5, 3, 7, 8, 3, 1, 7, 4],\n",
    "]\n",
    "rows, cols, weights = data\n",
    "m = Matrix.from_coo(rows, cols, weights)\n",
    "gb.viz.draw(m)\n",
    "\n",
    "#Для Беллман-Форда:\n",
    "#При обходе из вершины 1: до 6 прямой путь кратчайший - 4; до 4 вершины из вариантов 1-6-4 и 1-4\n",
    "#короче вариант 1-6-4, он равен 7; до нулевой вершины путь 1-6-3-0 длиной 14; до вершины 2\n",
    "#путь 1-6-2 длиной 9; до вершины 3 путь 1-6-3 длиной 11, до вершины 5 короче будет путь 1-6-2-5 длиной 10.\n",
    "print('BellmanFord:')\n",
    "print(bellman_ford(m, 1))\n",
    "#При обходе из вершины 2 достижима только вершина 5, путь длиной 1. Остальные вершины недостижимы.\n",
    "print(bellman_ford(m, 2))\n",
    "#При обходе из вершины 3: до 0 и 2 путь кратчайший прямой - длинами 3 и 3 соответственно; до 1 путь через 0\n",
    "#длиной 5; до 6 самый короткий путь - 3-0-1-6 длиной 9; до 4 ближе будет через 6ку, вычисленную ранее - получится\n",
    "#путь длиной 12; до 5ки путь через 2ку - длина 4.\n",
    "print(bellman_ford(m, 3))\n",
    "print('BellmanFordModify:')\n",
    "print(bellman_ford_modify(m, np.array([1,2,3])))\n",
    "print('FloydWarshall:')\n",
    "print(floyd_warshall(m))\n",
    "print('TransitiveClosure:')\n",
    "print(transitive_closure(m))"
   ]
  },
  {
   "cell_type": "code",
   "execution_count": 7,
   "id": "1a80e63c",
   "metadata": {},
   "outputs": [],
   "source": [
    "#Поэлементная провекрка\n",
    "assert (bellman_ford_modify(m, np.array([1,2,3]))[1]==bellman_ford(m, 1)).all()\n",
    "assert (bellman_ford_modify(m, np.array([1,2,3]))[2]==bellman_ford(m, 2)).all()\n",
    "assert (bellman_ford_modify(m, np.array([1,2,3]))[3]==bellman_ford(m, 3)).all()\n",
    "assert (floyd_warshall(m)[1]==bellman_ford(m, 1)).all()\n",
    "assert (floyd_warshall(m)[2]==bellman_ford(m, 2)).all()\n",
    "assert (floyd_warshall(m)[3]==bellman_ford(m, 3)).all()\n",
    "assert (floyd_warshall(m)[0]==transitive_closure(m)[0]).all()\n",
    "assert (floyd_warshall(m)[1]==transitive_closure(m)[1]).all()\n",
    "assert (floyd_warshall(m)[2]==transitive_closure(m)[2]).all()\n",
    "assert (floyd_warshall(m)[3]==transitive_closure(m)[3]).all()\n",
    "assert (floyd_warshall(m)[4]==transitive_closure(m)[4]).all()\n",
    "assert (floyd_warshall(m)[5]==transitive_closure(m)[5]).all()\n",
    "assert (floyd_warshall(m)[6]==transitive_closure(m)[6]).all()"
   ]
  },
  {
   "cell_type": "code",
   "execution_count": 8,
   "id": "551ba825",
   "metadata": {},
   "outputs": [
    {
     "data": {
      "image/png": "[encoded data removed]",
      "text/plain": [
       "<Figure size 640x480 with 1 Axes>"
      ]
     },
     "metadata": {},
     "output_type": "display_data"
    }
   ],
   "source": [
    "#Проверю функции на графе с циклом отрицательного веса (должны вернуть ошибку)\n",
    "M1=gb.Matrix.from_coo(\n",
    "    [0, 1, 2],\n",
    "    [1, 2, 0],\n",
    "    [-1,-2,-2],\n",
    "    nrows=3,\n",
    "    ncols=3\n",
    ")\n",
    "gb.viz.draw(M1)"
   ]
  },
  {
   "cell_type": "code",
   "execution_count": 9,
   "id": "07c353ac",
   "metadata": {},
   "outputs": [
    {
     "name": "stdout",
     "output_type": "stream",
     "text": [
      "bellman_ford: Тест пройден\n"
     ]
    }
   ],
   "source": [
    "try:\n",
    "    bellman_ford(M1, 2)\n",
    "except Exception as e:\n",
    "    if str(e) == \"Граф содержит цикл отрицательного веса\":\n",
    "        print(\"bellman_ford: Тест пройден\")\n",
    "    else:\n",
    "        print(f\"bellman_ford: Неверное сообщение об ошибке: {e}\")\n",
    "else:\n",
    "    print(\"bellman_ford: Исключение не было вызвано\")"
   ]
  },
  {
   "cell_type": "code",
   "execution_count": 10,
   "id": "ad46f4c4",
   "metadata": {},
   "outputs": [
    {
     "name": "stdout",
     "output_type": "stream",
     "text": [
      "bellman_ford_modify: Тест пройден\n"
     ]
    }
   ],
   "source": [
    "try:\n",
    "    bellman_ford_modify(M1, np.array([0,2]))\n",
    "except Exception as e:\n",
    "    if str(e) == \"Граф содержит цикл отрицательного веса\":\n",
    "        print(\"bellman_ford_modify: Тест пройден\")\n",
    "    else:\n",
    "        print(f\"bellman_ford_modify: Неверное сообщение об ошибке: {e}\")\n",
    "else:\n",
    "    print(\"bellman_ford_modify: Исключение не было вызвано\")"
   ]
  },
  {
   "cell_type": "code",
   "execution_count": 11,
   "id": "3448a1eb",
   "metadata": {},
   "outputs": [
    {
     "name": "stdout",
     "output_type": "stream",
     "text": [
      "floyd_warshall: Тест пройден\n"
     ]
    }
   ],
   "source": [
    "try:\n",
    "    floyd_warshall(M1)\n",
    "except Exception as e:\n",
    "    if str(e) == \"Граф содержит цикл отрицательного веса\":\n",
    "        print(\"floyd_warshall: Тест пройден\")\n",
    "    else:\n",
    "        print(f\"floyd_warshall: Неверное сообщение об ошибке: {e}\")\n",
    "else:\n",
    "    print(\"floyd_warshall: Исключение не было вызвано\")"
   ]
  },
  {
   "cell_type": "code",
   "execution_count": 12,
   "id": "842b74ef",
   "metadata": {},
   "outputs": [
    {
     "name": "stdout",
     "output_type": "stream",
     "text": [
      "transitive_closure: Тест пройден\n"
     ]
    }
   ],
   "source": [
    "try:\n",
    "    transitive_closure(M1)\n",
    "except Exception as e:\n",
    "    if str(e) == \"Граф содержит цикл отрицательного веса\":\n",
    "        print(\"transitive_closure: Тест пройден\")\n",
    "    else:\n",
    "        print(f\"transitive_closure: Неверное сообщение об ошибке: {e}\")\n",
    "else:\n",
    "    print(\"transitive_closure: Исключение не было вызвано\")"
   ]
  }
 ],
 "metadata": {
  "kernelspec": {
   "display_name": "Python 3 (ipykernel)",
   "language": "python",
   "name": "python3"
  },
  "language_info": {
   "codemirror_mode": {
    "name": "ipython",
    "version": 3
   },
   "file_extension": ".py",
   "mimetype": "text/x-python",
   "name": "python",
   "nbconvert_exporter": "python",
   "pygments_lexer": "ipython3",
   "version": "3.11.5"
  }
 },
 "nbformat": 4,
 "nbformat_minor": 5
}
